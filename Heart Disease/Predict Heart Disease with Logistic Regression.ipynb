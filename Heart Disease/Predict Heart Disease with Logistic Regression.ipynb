{
 "cells": [
  {
   "cell_type": "code",
   "execution_count": 23,
   "id": "74d00269",
   "metadata": {},
   "outputs": [
    {
     "name": "stdout",
     "output_type": "stream",
     "text": [
      "My model accuracy=  0.913\n",
      "baseline accuracy =  0.913\n"
     ]
    }
   ],
   "source": [
    "import numpy as np\n",
    "import pandas as pd\n",
    "from sklearn.linear_model import LogisticRegression\n",
    "from sklearn.model_selection import train_test_split\n",
    "from sklearn.preprocessing import StandardScaler\n",
    "from sklearn.metrics import accuracy_score\n",
    "from sklearn.dummy import DummyClassifier\n",
    "\n",
    "data = pd.read_csv('heart_2020_cleaned.csv')\n",
    "df = pd.DataFrame(data)\n",
    "\n",
    "df = df.sample(n = 5000,random_state=42)\n",
    "\n",
    "#separate X and y\n",
    "X = df.drop(columns = ['HeartDisease'])\n",
    "y = df['HeartDisease']\n",
    "\n",
    "#get dummies\n",
    "categorical_columns = X.select_dtypes(include=['object']).columns.tolist()\n",
    "numerical_columns = X.select_dtypes(include=['int64','float64']).columns.tolist()\n",
    "\n",
    "df_encoded = pd.get_dummies(X,columns=categorical_columns)\n",
    "\n",
    "X = pd.concat([df_encoded,df[numerical_columns]],axis=1)\n",
    "\n",
    "#scale\n",
    "scaler = StandardScaler()\n",
    "\n",
    "X = scaler.fit_transform(X)\n",
    "\n",
    "#split data\n",
    "X_train, X_test, y_train, y_test = train_test_split(X, y, test_size=0.2, random_state=42)\n",
    "\n",
    "#define the model\n",
    "model = LogisticRegression()\n",
    "model.fit(X_train,y_train)\n",
    "\n",
    "#predict\n",
    "y_pred = model.predict(X_test)\n",
    "\n",
    "accuracy = accuracy_score(y_test,y_pred)\n",
    "\n",
    "#define a baseline model\n",
    "baseline_model = DummyClassifier(strategy = 'most_frequent')\n",
    "baseline_model.fit(X_train,y_train)\n",
    "\n",
    "baseline_pred = baseline_model.predict(X_test)\n",
    "baseline_accuracy = accuracy_score(y_test,baseline_pred)\n",
    "\n",
    "#print\n",
    "print('My model accuracy= ',accuracy)\n",
    "print('baseline accuracy = ',baseline_accuracy)"
   ]
  },
  {
   "cell_type": "code",
   "execution_count": null,
   "id": "e5190534",
   "metadata": {},
   "outputs": [],
   "source": []
  }
 ],
 "metadata": {
  "kernelspec": {
   "display_name": "Python 3 (ipykernel)",
   "language": "python",
   "name": "python3"
  },
  "language_info": {
   "codemirror_mode": {
    "name": "ipython",
    "version": 3
   },
   "file_extension": ".py",
   "mimetype": "text/x-python",
   "name": "python",
   "nbconvert_exporter": "python",
   "pygments_lexer": "ipython3",
   "version": "3.10.6"
  }
 },
 "nbformat": 4,
 "nbformat_minor": 5
}
